{
 "cells": [
  {
   "cell_type": "code",
   "execution_count": 1,
   "metadata": {},
   "outputs": [],
   "source": [
    "from bs4 import BeautifulSoup\n",
    "import requests"
   ]
  },
  {
   "cell_type": "code",
   "execution_count": 5,
   "metadata": {},
   "outputs": [],
   "source": [
    "html_text = requests.get('https://www.timesjobs.com/candidate/job-search.html?searchType=personalizedSearch&from=submit&txtKeywords=python&txtLocation=').text"
   ]
  },
  {
   "cell_type": "code",
   "execution_count": 6,
   "metadata": {},
   "outputs": [],
   "source": [
    "# print(html_text)"
   ]
  },
  {
   "cell_type": "code",
   "execution_count": 7,
   "metadata": {},
   "outputs": [],
   "source": [
    "soup = BeautifulSoup(html_text, 'lxml')"
   ]
  },
  {
   "cell_type": "code",
   "execution_count": 28,
   "metadata": {},
   "outputs": [
    {
     "name": "stdout",
     "output_type": "stream",
     "text": [
      "Put some skills that you are not familar with\n",
      "filtering out python\n"
     ]
    }
   ],
   "source": [
    "print('Put some skills that you are not familar with')\n",
    "unfamilar_skill = input('>')\n",
    "print(f\"filtering out {unfamilar_skill}\")"
   ]
  },
  {
   "cell_type": "code",
   "execution_count": 29,
   "metadata": {},
   "outputs": [],
   "source": [
    "jobs = soup.find_all('li', class_ = 'clearfix job-bx wht-shd-bx')\n",
    "for job in jobs:\n",
    "    published_date = job.find('span', class_ = 'sim-posted').span.text\n",
    "    if 'few' in published_date:\n",
    "        company_name = job.find('h3', class_ = 'joblist-comp-name').text.replace(' ', '') # remove the blank\n",
    "        skills = job.find('span', class_ = 'srp-skills').text.replace(' ', '')\n",
    "        more_info = job.header.h2.a['href']\n",
    "        if unfamilar_skill not in skills:\n",
    "            print(f\"Company Name: {company_name.strip()}\")\n",
    "            print(f\"Required Skills: {skills.strip()}\")\n",
    "            print(f\"More Info: {more_info}\")\n",
    "            print('')\n",
    "        "
   ]
  },
  {
   "cell_type": "code",
   "execution_count": null,
   "metadata": {},
   "outputs": [],
   "source": []
  }
 ],
 "metadata": {
  "interpreter": {
   "hash": "7d5e742450db4ba3ac84d2a36942e4fe7c054e892544f4836158a4bfa83c5803"
  },
  "kernelspec": {
   "display_name": "Python 3.9.7 ('base')",
   "language": "python",
   "name": "python3"
  },
  "language_info": {
   "codemirror_mode": {
    "name": "ipython",
    "version": 3
   },
   "file_extension": ".py",
   "mimetype": "text/x-python",
   "name": "python",
   "nbconvert_exporter": "python",
   "pygments_lexer": "ipython3",
   "version": "3.9.7"
  },
  "orig_nbformat": 4
 },
 "nbformat": 4,
 "nbformat_minor": 2
}
